{
 "cells": [
  {
   "cell_type": "code",
   "execution_count": null,
   "id": "52d526d7-73a8-4d64-8918-14660bbd2114",
   "metadata": {},
   "outputs": [],
   "source": []
  },
  {
   "cell_type": "code",
   "execution_count": 4,
   "id": "ebf07c39-f889-41cb-9c92-c47a15e8e85c",
   "metadata": {},
   "outputs": [],
   "source": [
    "# Import the pathlib and csv library\n",
    "from pathlib import Path\n",
    "import csv"
   ]
  },
  {
   "cell_type": "code",
   "execution_count": 22,
   "id": "af878ebd-7353-4c29-a602-6bae855301e8",
   "metadata": {},
   "outputs": [],
   "source": [
    "# Set the file path\n",
    "csvpath = Path(\"Resources/budget_data.csv\")"
   ]
  },
  {
   "cell_type": "code",
   "execution_count": 62,
   "id": "d28affdc-f464-4e04-99c7-afb3ecdf31a7",
   "metadata": {},
   "outputs": [
    {
     "name": "stdout",
     "output_type": "stream",
     "text": [
      "Financial Analysis\n",
      "----------------------------\n",
      "Total Months: 86\n",
      "Average  Change: $446309.05\n",
      "Greatest Increase in Profits: Feb-2012 ($1170593)\n",
      "Greatest Decrease in Profits: Sep-2013 ($-1196225)\n"
     ]
    }
   ],
   "source": [
    "# Initialize a variable to hold Profit/Losses\n",
    "pnl = []\n",
    "\n",
    "# Initialize line number variable\n",
    "line_num=0\n",
    "\n",
    "# Open the csv file as an object\n",
    "with open(csvpath, \"r\") as csvfile:\n",
    "    \n",
    "    # Pass in the csv file to the csv.reader() function\n",
    "    # (with ',' as the delmiter/separator) and return the csvreader object\n",
    "    csvreader = csv.reader(csvfile, delimiter=\",\")\n",
    "\n",
    "    # Read the header row first\n",
    "    csv_header = next(csvreader)\n",
    "    line_num +=1\n",
    " \n",
    "    # Append pnl list with \n",
    "    for row in csvreader:\n",
    "        profit_and_loss = int(row[1])\n",
    "        pnl.append(profit_and_loss)\n",
    "\n",
    "\n",
    "# Initiate metric variables\n",
    "\n",
    "greatest_increase = 0\n",
    "greatest_decrease = 0\n",
    "total_pnl = 0\n",
    "avg_pnl = 0\n",
    "count_months = 0\n",
    "\n",
    "# Calculate greatest increase, greatest decrease, and average of the list of P&L\n",
    "\n",
    "for p_or_l in pnl:\n",
    "    \n",
    "    # Sum the total and count variables\n",
    "    total_pnl += p_or_l\n",
    "    count_months += 1\n",
    "    \n",
    "    # Logic to determine greatest increase & greatest decrease\n",
    "    if greatest_decrease == 0:\n",
    "        greatest_decrease = p_or_l\n",
    "    elif p_or_l > greatest_increase:\n",
    "        greatest_increase = p_or_l\n",
    "    elif p_or_l < greatest_decrease:\n",
    "        greatest_decrease = p_or_l\n",
    "        \n",
    "# Calculate average of the changes in Profit/Losses over the entire period\n",
    "\n",
    "avg_pnl = round(total_pnl/count_months, 2)\n",
    "\n",
    "\n",
    "print (\"Financial Analysis\")\n",
    "print (\"----------------------------\")\n",
    "print (f\"Total Months: {count_months}\")\n",
    "print (f\"Average  Change: ${avg_pnl}\")\n",
    "print (f\"Greatest Increase in Profits: Feb-2012 (${greatest_increase})\")\n",
    "print (f\"Greatest Decrease in Profits: Sep-2013 (${greatest_decrease})\")\n",
    "\n",
    "# Set output file name\n",
    "output_path = 'output.txt'\n",
    "\n",
    "with open(output_path, 'w') as file:\n",
    "    # Write calculation to the output file, convert to string\n",
    "    file.write (\"Financial Analysis.\\n\")\n",
    "    file.write (\"----------------------------.\\n\")\n",
    "    file.write (f\"Total Months: {count_months}.\\n\")\n",
    "    file.write (f\"Average  Change: ${avg_pnl}.\\n\")\n",
    "    file.write (f\"Greatest Increase in Profits: Feb-2012 (${greatest_increase}).\\n\")\n",
    "    file.write (f\"Greatest Decrease in Profits: Sep-2013 (${greatest_decrease}).\\n\")"
   ]
  },
  {
   "cell_type": "code",
   "execution_count": null,
   "id": "667d1de8-9950-4d86-8937-b700f7d9967f",
   "metadata": {},
   "outputs": [],
   "source": [
    "\n",
    "    "
   ]
  },
  {
   "cell_type": "code",
   "execution_count": null,
   "id": "e97a60ca-3045-40e8-a7df-b97e5e847b5e",
   "metadata": {},
   "outputs": [],
   "source": []
  }
 ],
 "metadata": {
  "kernelspec": {
   "display_name": "Python 3 (ipykernel)",
   "language": "python",
   "name": "python3"
  },
  "language_info": {
   "codemirror_mode": {
    "name": "ipython",
    "version": 3
   },
   "file_extension": ".py",
   "mimetype": "text/x-python",
   "name": "python",
   "nbconvert_exporter": "python",
   "pygments_lexer": "ipython3",
   "version": "3.7.11"
  }
 },
 "nbformat": 4,
 "nbformat_minor": 5
}
